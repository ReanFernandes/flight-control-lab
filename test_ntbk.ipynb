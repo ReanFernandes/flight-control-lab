{
 "cells": [
  {
   "cell_type": "code",
   "execution_count": 1,
   "metadata": {},
   "outputs": [],
   "source": [
    "import matplotlib.pyplot as plt\n",
    "import numpy as np\n",
    "from casadi import *\n",
    "from NMPC_quat import NMPC_quat\n",
    "%load_ext autoreload"
   ]
  },
  {
   "cell_type": "code",
   "execution_count": 2,
   "metadata": {},
   "outputs": [],
   "source": [
    "%autoreload\n",
    "Q = np.diag([120,\n",
    "             100,\n",
    "             100,\n",
    "             1,\n",
    "             1,\n",
    "             1,\n",
    "             1,\n",
    "             7e-1,\n",
    "             1.0,\n",
    "             4.0,\n",
    "             1e-5,\n",
    "             1e-5,\n",
    "             1e-5])\n",
    "\n",
    "# Q_position = np.diag([120,\n",
    "#              100,\n",
    "#              100])\n",
    "\n",
    "\n",
    "\n",
    "R = np.diag([1, 1, 1, 1])* 0.06\n"
   ]
  },
  {
   "cell_type": "code",
   "execution_count": 3,
   "metadata": {},
   "outputs": [],
   "source": [
    "x_init = np.array([0,0,0.2])\n",
    "x_des = np.array([0.3,0.5,0.21])\n",
    "\n",
    "N = 10 # horizon length\n",
    "T = 0.1 # time step\n",
    "Tf = 30 # simulation time\n",
    "method = \"DMS\"\n",
    "# method = \"DC\"; degree = 2\n",
    "store_prediction = True\n",
    "nlp_opts_dms = { \"ipopt.tol\": 1e-3, \"ipopt.max_iter\": 100}\n"
   ]
  },
  {
   "cell_type": "code",
   "execution_count": 4,
   "metadata": {},
   "outputs": [],
   "source": [
    "# initialise NMPC instance\n",
    "dms_mpc = NMPC_quat(Q, R, N, T, Tf, method, store_prediction=store_prediction, nlpopts_dms=nlp_opts_dms)\n",
    "\n",
    "dms_mpc.set_values(x_init, x_des)\n"
   ]
  },
  {
   "cell_type": "code",
   "execution_count": 5,
   "metadata": {},
   "outputs": [
    {
     "name": "stdout",
     "output_type": "stream",
     "text": [
      "Starting state :  [0.  0.  0.2 1.  0.  0.  0.  0.  0.  0.  0.  0.  0. ]\n",
      "Desired state :  [0.3  0.5  0.21 1.   0.   0.   0.   0.   0.   0.   0.   0.   0.  ]\n"
     ]
    }
   ],
   "source": [
    "print(\"Starting state : \",dms_mpc.x_init)\n",
    "print(\"Desired state : \",dms_mpc.x_des)"
   ]
  },
  {
   "cell_type": "code",
   "execution_count": 6,
   "metadata": {},
   "outputs": [
    {
     "name": "stdout",
     "output_type": "stream",
     "text": [
      "Solver :  solver:(x0[183],p[30],lbx[183],ubx[183],lbg[156],ubg[156],lam_x0[183],lam_g0[156])->(x[183],f,g[156],lam_x[183],lam_g[156],lam_p[30]) IpoptInterface\n"
     ]
    }
   ],
   "source": [
    "print(\"Solver : \",dms_mpc.solver)"
   ]
  },
  {
   "cell_type": "code",
   "execution_count": 7,
   "metadata": {},
   "outputs": [
    {
     "name": "stdout",
     "output_type": "stream",
     "text": [
      "method :  DMS\n"
     ]
    }
   ],
   "source": [
    "print(\"method : \",dms_mpc.method)"
   ]
  },
  {
   "cell_type": "code",
   "execution_count": 8,
   "metadata": {},
   "outputs": [
    {
     "name": "stdout",
     "output_type": "stream",
     "text": [
      "Size of optimisation variable vector :  183\n"
     ]
    }
   ],
   "source": [
    "print(\"Size of optimisation variable vector : \",len(dms_mpc.w0))"
   ]
  },
  {
   "cell_type": "code",
   "execution_count": 9,
   "metadata": {},
   "outputs": [
    {
     "name": "stdout",
     "output_type": "stream",
     "text": [
      "\n",
      "******************************************************************************\n",
      "This program contains Ipopt, a library for large-scale nonlinear optimization.\n",
      " Ipopt is released as open source code under the Eclipse Public License (EPL).\n",
      "         For more information visit http://projects.coin-or.org/Ipopt\n",
      "******************************************************************************\n",
      "\n",
      "This is Ipopt version 3.12.3, running with linear solver mumps.\n",
      "NOTE: Other linear solvers might be more efficient (see Ipopt documentation).\n",
      "\n",
      "Number of nonzeros in equality constraint Jacobian...:     1676\n",
      "Number of nonzeros in inequality constraint Jacobian.:        0\n",
      "Number of nonzeros in Lagrangian Hessian.............:     1591\n",
      "\n",
      "Error evaluating objective gradient at user provided starting point.\n",
      "  No scaling factor for objective function computed!\n",
      "\n",
      "Number of Iterations....: 0\n",
      "\n",
      "Number of objective function evaluations             = 0\n",
      "Number of objective gradient evaluations             = 1\n",
      "Number of equality constraint evaluations            = 0\n",
      "Number of inequality constraint evaluations          = 0\n",
      "Number of equality constraint Jacobian evaluations   = 1\n",
      "Number of inequality constraint Jacobian evaluations = 0\n",
      "Number of Lagrangian Hessian evaluations             = 0\n",
      "Total CPU secs in IPOPT (w/o function evaluations)   =      0.006\n",
      "Total CPU secs in NLP function evaluations           =      0.007\n",
      "\n",
      "EXIT: Invalid number in NLP function or derivative detected.\n",
      "      solver  :   t_proc      (avg)   t_wall      (avg)    n_eval\n",
      "    nlp_grad  |   1.32ms (  1.32ms)   1.34ms (  1.34ms)         1\n",
      "  nlp_grad_f  |   2.71ms (  1.36ms)   2.56ms (  1.28ms)         2\n",
      "   nlp_jac_g  |   9.83ms (  4.92ms)   9.85ms (  4.93ms)         2\n",
      "       total  |  15.37ms ( 15.37ms)  15.38ms ( 15.38ms)         1\n"
     ]
    },
    {
     "name": "stderr",
     "output_type": "stream",
     "text": [
      "CasADi - 2023-02-08 17:03:26 WARNING(\"solver:nlp_grad_f failed: NaN detected for output grad_f_x, at (row 170, col 0).\") [.../casadi/core/oracle_function.cpp:265]\n",
      "CasADi - 2023-02-08 17:03:26 WARNING(\"solver:nlp_grad_f failed: NaN detected for output grad_f_x, at (row 170, col 0).\") [.../casadi/core/oracle_function.cpp:265]\n",
      "CasADi - 2023-02-08 17:03:26 WARNING(\"solver:nlp_grad failed: NaN detected for output grad_gamma_p, at (row 17, col 0).\") [.../casadi/core/oracle_function.cpp:265]\n",
      "CasADi - 2023-02-08 17:03:26 WARNING(\"Failed to calculate multipliers\") [.../casadi/core/nlpsol.cpp:621]\n"
     ]
    }
   ],
   "source": [
    "dms_mpc.solve_open_loop()"
   ]
  },
  {
   "cell_type": "code",
   "execution_count": null,
   "metadata": {},
   "outputs": [],
   "source": [
    "fig = plt.figure()\n",
    "ax = fig.add_subplot(111, projection='3d')\n",
    "ax.plot(dms_mpc.X_mpc[:,0],dms_mpc.X_mpc[:,1],dms_mpc.X_mpc[:,2], 'o')\n",
    "ax.scatter(dms_mpc.x_init[0],dms_mpc.x_init[1],dms_mpc.x_init[2],c='r')\n",
    "ax.scatter(dms_mpc.x_des[0],dms_mpc.x_des[1],dms_mpc.x_des[2],c='g')\n",
    "ax.set_xlabel('X')\n",
    "ax.set_ylabel('Y')\n",
    "ax.set_zlabel('Z')\n",
    "plt.show()\n"
   ]
  },
  {
   "cell_type": "code",
   "execution_count": null,
   "metadata": {},
   "outputs": [],
   "source": [
    "fig = plt.figure()\n",
    "plt.stairs(dms_mpc.U_mpc[:,0],label='u1')\n",
    "plt.stairs(dms_mpc.U_mpc[:,1],label='u2')\n",
    "plt.stairs(dms_mpc.U_mpc[:,2],label='u3')\n",
    "plt.stairs(dms_mpc.U_mpc[:,3],label='u4')\n",
    "plt.legend()\n",
    "plt.show()\n",
    "\n",
    "\n"
   ]
  },
  {
   "cell_type": "code",
   "execution_count": null,
   "metadata": {},
   "outputs": [],
   "source": [
    "dms_mpc.thrust_list"
   ]
  },
  {
   "cell_type": "code",
   "execution_count": null,
   "metadata": {},
   "outputs": [],
   "source": [
    "dms_mpc.L"
   ]
  },
  {
   "cell_type": "code",
   "execution_count": null,
   "metadata": {},
   "outputs": [],
   "source": [
    "#print phi_list, theta list and psi_list as an array with 3 columnns and each row contains the values of phi, theta and psi at a time step\n",
    "fig = plt.figure()\n",
    "plt.stairs(dms_mpc.phi_list,label='phi')\n",
    "plt.stairs(dms_mpc.theta_list,label='theta')\n",
    "plt.stairs(dms_mpc.psi_list,label='psi')\n",
    "plt.legend()\n",
    "plt.show()\n",
    "\n",
    "\n",
    "\n"
   ]
  },
  {
   "cell_type": "code",
   "execution_count": null,
   "metadata": {},
   "outputs": [],
   "source": [
    "import matplotlib.pyplot as plt\n",
    "%load_ext autoreload\n",
    "import numpy as np\n",
    "from casadi import *\n",
    "from NMPC_quat import NMPC_quat\n",
    "# %load_ext autoreload\n",
    "# solve the closed loop system\n",
    "%autoreload\n",
    "Q = np.diag([120,\n",
    "             100,\n",
    "             100,\n",
    "             1,\n",
    "             1,\n",
    "             1,\n",
    "             1,\n",
    "             7e-1,\n",
    "             1.0,\n",
    "             4.0,\n",
    "             1e-2,\n",
    "             1e-2,\n",
    "             1e-2])\n",
    "\n",
    "# Q_position = np.diag([120,\n",
    "#              100,\n",
    "#              100])\n",
    "\n",
    "\n",
    "\n",
    "R = np.diag([1, 1, 1, 1])*0.06\n",
    "x_init = np.array([0,0,0.5])\n",
    "x_des = np.array([0.1,0.1,0.5])\n",
    "deviation_threshold = 0.1\n",
    "N =10 # horizon length\n",
    "T = 0.5 # time step\n",
    "Tf = 10# simulation time\n",
    "method = \"DMS\"\n",
    "# method = \"DC\"; degree = 2\n",
    "store_prediction = True\n",
    "nlp_opts_dms = { \"ipopt.tol\": 1e-3, \"ipopt.max_iter\": 30, \"ipopt.print_level\": 0, \"print_time\": 0}\n",
    "\n",
    "# initialise NMPC instance\n",
    "dms_mpc = NMPC_quat(Q, R, N, T, Tf, method, store_prediction=store_prediction, nlpopts_dms=nlp_opts_dms)\n",
    "\n",
    "dms_mpc.set_values(x_init, x_des)\n",
    "print(\"Starting state : \",dms_mpc.initial_guess_state)\n",
    "print(dms_mpc.N_sim)\n",
    "stable_counter = 0\n",
    "for i in range(dms_mpc.N_sim):\n",
    "    # print(\"Iteration : \",i)\n",
    "    dms_mpc.solve_for_next_state()\n",
    "    dms_mpc.extract_next_state(i)\n",
    "    # print(\"current pose =\", dms_mpc.X_opt_current[7:10])\n",
    "    # print(\"Current quaternion = \", dms_mpc.X_opt_current[3:7])\n",
    "    # print(\"Control = \", dms_mpc.U_opt_current)\n",
    "    if dms_mpc.deviation_from_reference < deviation_threshold:\n",
    "        print(\"stability counter = \", stable_counter)\n",
    "        stable_counter += 1\n",
    "        if stable_counter > 10:\n",
    "            print(\"System is stable\")\n",
    "            print(\"System converged in \" , i, \" steps\")\n",
    "            print(\"Final state : \",dms_mpc.X_opt_current)\n",
    "            break\n",
    "    if i >  dms_mpc.N_sim - 1:\n",
    "        print(\"System is unstable\")\n",
    "        break\n",
    "\n"
   ]
  },
  {
   "cell_type": "code",
   "execution_count": null,
   "metadata": {},
   "outputs": [],
   "source": [
    "# plot the 3d trajectory\n",
    "%matplotlib widget\n",
    "from mpl_toolkits.mplot3d import Axes3D\n",
    "fig = plt.figure()\n",
    "ax = fig.add_subplot(111, projection='3d')\n",
    "ax.plot(x_des[0], x_des[1], x_des[2], 'ro', label='Desired position', markersize=10)\n",
    "ax.plot(dms_mpc.X_mpc[i,0], dms_mpc.X_mpc[i,1], dms_mpc.X_mpc[i,2], 'go', label='Final position')\n",
    "ax.plot(x_init[0], x_init[1], x_init[2], 'bo', label='Initial position')\n",
    "ax.plot(dms_mpc.X_mpc[:i,0], dms_mpc.X_mpc[:i,1], dms_mpc.X_mpc[:i,2],'yo')\n",
    "ax.set_xlabel('X Label')\n",
    "ax.set_ylabel('Y Label')\n",
    "ax.set_zlabel('Z Label')\n",
    "plt.legend()\n",
    "plt.show()\n",
    "\n"
   ]
  },
  {
   "cell_type": "code",
   "execution_count": null,
   "metadata": {},
   "outputs": [],
   "source": [
    "#plot the controls\n",
    "plt.figure()\n",
    "plt.stairs(dms_mpc.U_mpc[:i,0], label=\"u1\")\n",
    "plt.stairs(dms_mpc.U_mpc[:i,1], label=\"u2\")\n",
    "plt.stairs(dms_mpc.U_mpc[:i,2], label=\"u3\")\n",
    "plt.stairs(dms_mpc.U_mpc[:i,3], label=\"u4\")\n",
    "plt.legend()\n",
    "plt.savefig(\"control_for_y_mvmt.png\")\n",
    "plt.show()\n"
   ]
  },
  {
   "cell_type": "code",
   "execution_count": null,
   "metadata": {},
   "outputs": [],
   "source": [
    "dms_mpc.control_list"
   ]
  },
  {
   "cell_type": "code",
   "execution_count": null,
   "metadata": {},
   "outputs": [],
   "source": [
    "print(dms_mpc.X_mpc[:i,3:7])"
   ]
  },
  {
   "cell_type": "code",
   "execution_count": null,
   "metadata": {},
   "outputs": [],
   "source": [
    "import matplotlib.pyplot as plt\n",
    "%load_ext autoreload\n",
    "import numpy as np\n",
    "from casadi import *\n",
    "from NMPC_quat import NMPC_quat\n",
    "# %load_ext autoreload\n",
    "# solve the closed loop system\n",
    "%autoreload\n",
    "Q = np.diag([120,\n",
    "             100,\n",
    "             100,\n",
    "             1,\n",
    "             1,\n",
    "             1,\n",
    "             1,\n",
    "             1,\n",
    "             1.0,\n",
    "             10.0,\n",
    "             1e-2,\n",
    "             1e-2,\n",
    "             1e-2])\n",
    "\n",
    "# Q_position = np.diag([120,\n",
    "#              100,\n",
    "#              100])\n",
    "\n",
    "\n",
    "\n",
    "R = np.diag([1, 1, 1, 1])*10\n",
    "x_init = np.array([0,0,0.2])\n",
    "x_des = np.array([0.2,0.2,0.2])\n",
    "deviation_threshold = 0.05\n",
    "N =20# horizon length\n",
    "T = 0.05 # time step\n",
    "Tf = 5# simulation time\n",
    "# method = \"DMS\"\n",
    "method = \"DC\"; degree = 2\n",
    "store_prediction = True\n",
    "nlp_opts_dc = { \"ipopt.tol\": 1e-3, \"ipopt.max_iter\": 50, \"ipopt.print_level\": 0, \"print_time\": 0}\n",
    "\n",
    "# initialise NMPC instance\n",
    "dc_mpc = NMPC_quat(Q, R, N, T, Tf, method, store_prediction=store_prediction, nlpopts_dc = nlp_opts_dc, degree=degree)\n",
    "\n",
    "dc_mpc.set_values(x_init, x_des)\n",
    "print(\"Starting state : \",dc_mpc.initial_guess_state)\n",
    "print(dc_mpc.N_sim)\n",
    "print(dc_mpc.deviation_from_reference)\n",
    "stable_counter = 0\n",
    "for i in range(dc_mpc.N_sim):\n",
    "    print(\"Iteration : \",i)\n",
    "    dc_mpc.solve_for_next_state()\n",
    "    dc_mpc.extract_next_state(i)\n",
    "    print(\"current pose =\", dc_mpc.X_opt_current)\n",
    "    # print(\"Current quaternion = \", dc_mpc.X_opt_current[3:7])\n",
    "    # print(\"Control = \", dc_mpc.U_opt_current)\n",
    "    print(dc_mpc.deviation_from_reference)\n",
    "    if dc_mpc.deviation_from_reference < deviation_threshold:\n",
    "        print(\"stability counter = \", stable_counter)\n",
    "        stable_counter += 1\n",
    "        if stable_counter > 50:\n",
    "            print(\"System is stable\")\n",
    "            print(\"System converged in \" , i, \" steps\")\n",
    "            print(\"Final state : \",dc_mpc.X_opt_current)\n",
    "            break\n",
    "    if i >  dc_mpc.N_sim - 1:\n",
    "        print(\"System is unstable\")\n",
    "        break\n",
    "\n"
   ]
  },
  {
   "cell_type": "code",
   "execution_count": null,
   "metadata": {},
   "outputs": [],
   "source": [
    "# plot the 3d trajectory\n",
    "%matplotlib widget\n",
    "from mpl_toolkits.mplot3d import Axes3D\n",
    "fig = plt.figure()\n",
    "ax = fig.add_subplot(111, projection='3d')\n",
    "ax.plot(x_des[0], x_des[1], x_des[2], 'ro', label='Desired position', markersize=10)\n",
    "ax.plot(dc_mpc.X_mpc[i,0], dc_mpc.X_mpc[i,1], dc_mpc.X_mpc[i,2], 'go', label='Final position')\n",
    "ax.plot(dc_mpc.X_mpc[0,0], dc_mpc.X_mpc[0,1], dc_mpc.X_mpc[0,2], 'bo', label='Initial position')\n",
    "ax.plot(dc_mpc.X_mpc[:i,0], dc_mpc.X_mpc[:i,1], dc_mpc.X_mpc[:i,2],'y')\n",
    "ax.set_xlabel('X Label')\n",
    "ax.set_ylabel('Y Label')\n",
    "ax.set_zlabel('Z Label')\n",
    "plt.legend()\n",
    "plt.show()\n",
    "\n"
   ]
  },
  {
   "cell_type": "code",
   "execution_count": null,
   "metadata": {},
   "outputs": [],
   "source": [
    "#plot the controls\n",
    "plt.figure()\n",
    "plt.stairs(dc_mpc.U_mpc[:i,0], label=\"u1\")\n",
    "plt.stairs(dc_mpc.U_mpc[:i,1], label=\"u2\")\n",
    "plt.stairs(dc_mpc.U_mpc[:i,2], label=\"u3\")\n",
    "plt.stairs(dc_mpc.U_mpc[:i,3], label=\"u4\")\n",
    "plt.legend()\n",
    "plt.show()\n"
   ]
  },
  {
   "cell_type": "code",
   "execution_count": null,
   "metadata": {},
   "outputs": [],
   "source": [
    "#plot thrust values\n",
    "plt.figure()\n",
    "plt.stairs(dc_mpc.thrust_list)"
   ]
  },
  {
   "cell_type": "code",
   "execution_count": null,
   "metadata": {},
   "outputs": [],
   "source": [
    "plt.figure()\n",
    "plt.plot(dc_mpc.X_mpc[:i,0], label=\"x\")\n",
    "plt.plot(dc_mpc.X_mpc[:i,1], label=\"y\")\n",
    "plt.plot(dc_mpc.X_mpc[:i,2], label=\"z\")\n",
    "plt.legend()\n",
    "plt.show()"
   ]
  },
  {
   "cell_type": "code",
   "execution_count": null,
   "metadata": {},
   "outputs": [],
   "source": [
    "plt.figure()\n",
    "plt.plot(dc_mpc.phi_list, label=\"yaw\")\n",
    "plt.plot(dc_mpc.theta_list, label=\"pitch\")\n",
    "plt.plot(dc_mpc.psi_list, label=\"roll\")\n",
    "plt.legend()\n",
    "plt.show()"
   ]
  },
  {
   "cell_type": "code",
   "execution_count": null,
   "metadata": {},
   "outputs": [],
   "source": [
    "dc_mpc.control_list"
   ]
  },
  {
   "cell_type": "code",
   "execution_count": null,
   "metadata": {},
   "outputs": [],
   "source": [
    "roll = [i[0] for i in dc_mpc.control_list]\n",
    "pitch = [i[1] for i in dc_mpc.control_list]\n",
    "yaw_rate = [i[2] for i in dc_mpc.control_list]\n",
    "thrust = [i[3] for i in dc_mpc.control_list]\n",
    "\n",
    "plt.figure()\n",
    "plt.subplot(4,1,1)\n",
    "plt.plot(roll)\n",
    "plt.subplot(4,1,2)\n",
    "plt.plot(pitch)\n",
    "plt.subplot(4,1,3)\n",
    "plt.plot(yaw_rate)\n",
    "plt.subplot(4,1,4)\n",
    "plt.plot(thrust)\n",
    "\n",
    "plt.show()\n",
    "\n",
    "\n"
   ]
  },
  {
   "cell_type": "code",
   "execution_count": null,
   "metadata": {},
   "outputs": [],
   "source": []
  }
 ],
 "metadata": {
  "kernelspec": {
   "display_name": "Python 3",
   "language": "python",
   "name": "python3"
  },
  "language_info": {
   "codemirror_mode": {
    "name": "ipython",
    "version": 3
   },
   "file_extension": ".py",
   "mimetype": "text/x-python",
   "name": "python",
   "nbconvert_exporter": "python",
   "pygments_lexer": "ipython3",
   "version": "3.8.10"
  },
  "orig_nbformat": 4,
  "vscode": {
   "interpreter": {
    "hash": "e7370f93d1d0cde622a1f8e1c04877d8463912d04d973331ad4851f04de6915a"
   }
  }
 },
 "nbformat": 4,
 "nbformat_minor": 2
}
